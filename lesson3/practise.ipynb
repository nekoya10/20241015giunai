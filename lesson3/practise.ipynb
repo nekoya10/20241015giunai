{
 "cells": [
  {
   "cell_type": "code",
   "execution_count": 7,
   "metadata": {},
   "outputs": [
    {
     "name": "stdout",
     "output_type": "stream",
     "text": [
      "公斤轉換為磅:\n",
      "公斤為:5.0公斤 磅=11.021磅\n"
     ]
    }
   ],
   "source": [
    "print(\"公斤轉換為磅:\")\n",
    "\n",
    "kilograms = float(input(\"請輸入公斤\"))\n",
    "\n",
    "pounds = kilograms * 2.20426\n",
    "\n",
    "print(f\"公斤為:{kilograms}公斤 磅={pounds:.3f}磅\")"
   ]
  },
  {
   "cell_type": "code",
   "execution_count": 8,
   "metadata": {},
   "outputs": [
    {
     "name": "stdout",
     "output_type": "stream",
     "text": [
      "磅轉換為公斤:\n",
      "磅為:11.021磅 公斤= 5.000公斤\n"
     ]
    }
   ],
   "source": [
    "print(\"磅轉換為公斤:\")\n",
    "\n",
    "pounds = float(input(\"請輸入磅\"))\n",
    "\n",
    "kilograms = pounds / 2.20426\n",
    "\n",
    "print(f\"磅為:{pounds}磅 公斤= {kilograms:.3f}公斤\")"
   ]
  }
 ],
 "metadata": {
  "kernelspec": {
   "display_name": "Python 3",
   "language": "python",
   "name": "python3"
  },
  "language_info": {
   "codemirror_mode": {
    "name": "ipython",
    "version": 3
   },
   "file_extension": ".py",
   "mimetype": "text/x-python",
   "name": "python",
   "nbconvert_exporter": "python",
   "pygments_lexer": "ipython3",
   "version": "3.10.15"
  }
 },
 "nbformat": 4,
 "nbformat_minor": 2
}
