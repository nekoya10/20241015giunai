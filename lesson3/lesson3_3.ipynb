{
 "cells": [
  {
   "cell_type": "markdown",
   "metadata": {},
   "source": [
    "# 有input的數學運算"
   ]
  },
  {
   "cell_type": "code",
   "execution_count": 5,
   "metadata": {},
   "outputs": [
    {
     "name": "stdout",
     "output_type": "stream",
     "text": [
      "上底:10,下底:10,高:5\n",
      "面積:50.0\n"
     ]
    }
   ],
   "source": [
    "#求梯形面積\n",
    "top = int(input(\"請輸入上底\"))\n",
    "bottom = int(input(\"請輸入下底\"))\n",
    "height = int(input(\"請輸入高\"))\n",
    "\n",
    "area = (top + bottom) * height / 2\n",
    "print(f\"上底:{top},下底:{bottom},高:{height}\")\n",
    "print(f\"面積:{area}\")\n"
   ]
  },
  {
   "cell_type": "code",
   "execution_count": 1,
   "metadata": {},
   "outputs": [
    {
     "name": "stdout",
     "output_type": "stream",
     "text": [
      "半徑:20.0,面積=1256.63704\n"
     ]
    }
   ],
   "source": [
    "#求圓面積\n",
    "radius = float(input(\"請輸入半徑:\"))\n",
    "pi = 3.1415926\n",
    "print(f\"半徑:{radius},面積={pi * radius ** 2}\")"
   ]
  },
  {
   "cell_type": "code",
   "execution_count": 2,
   "metadata": {},
   "outputs": [
    {
     "name": "stdout",
     "output_type": "stream",
     "text": [
      "半徑:2.8,面積=24.63\n"
     ]
    }
   ],
   "source": [
    "#求圓面積\n",
    "radius = float(input('請輸入半徑:'))\n",
    "pi = 3.1415926\n",
    "area = pi * radius ** 2\n",
    "print(f\"半徑:{radius},面積={area:.2f}\")"
   ]
  },
  {
   "cell_type": "code",
   "execution_count": 5,
   "metadata": {},
   "outputs": [
    {
     "name": "stdout",
     "output_type": "stream",
     "text": [
      "角度是:28.65\n"
     ]
    }
   ],
   "source": [
    "import math\n",
    "side = float(input(\"請輸入對邊:\"))\n",
    "another_side = float(input(\"請輸入斜邊:\"))\n",
    "radian = math.asin = (side / another_side)\n",
    "degree = math.degrees(radian)\n",
    "print(f\"角度是:{round(degree,ndigits=2)}\")\n"
   ]
  }
 ],
 "metadata": {
  "kernelspec": {
   "display_name": "Python 3",
   "language": "python",
   "name": "python3"
  },
  "language_info": {
   "codemirror_mode": {
    "name": "ipython",
    "version": 3
   },
   "file_extension": ".py",
   "mimetype": "text/x-python",
   "name": "python",
   "nbconvert_exporter": "python",
   "pygments_lexer": "ipython3",
   "version": "3.10.15"
  }
 },
 "nbformat": 4,
 "nbformat_minor": 2
}
