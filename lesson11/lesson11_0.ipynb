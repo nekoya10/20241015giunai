{
 "cells": [
  {
   "cell_type": "code",
   "execution_count": 1,
   "metadata": {},
   "outputs": [
    {
     "name": "stdout",
     "output_type": "stream",
     "text": [
      "姓名:簡佳樺\n",
      "身高:175\n",
      "體重:63\n",
      "BMI:20.57\n",
      "狀態:您的體重:正常範圍\n",
      "=========================\n",
      "姓名:許淑婷\n",
      "身高:182\n",
      "體重:91\n",
      "BMI:27.47\n",
      "狀態:您的體重:輕度肥胖\n",
      "=========================\n",
      "姓名:陳志偉\n",
      "身高:184\n",
      "體重:79\n",
      "BMI:23.33\n",
      "狀態:您的體重:正常範圍\n",
      "=========================\n"
     ]
    }
   ],
   "source": [
    "import tools\n",
    "from tools import BMI\n",
    "\n",
    "if __name__ == '__main__':\n",
    "    nums = int(input('請輸入人數'))\n",
    "    names:list[str] = tools.get_name(nums=nums)\n",
    "    students:list[BMI] = tools.generate_bmi(names=names)\n",
    "    file_dict:list[dict] = []\n",
    "    for student in students:\n",
    "        print(f\"姓名:{student.name}\")\n",
    "        print(f\"身高:{student.height}\")\n",
    "        print(f\"體重:{student.weight}\")\n",
    "        print(f\"BMI:{student.get_bmi()}\")\n",
    "        print(f\"狀態:{student.get_status()}\")\n",
    "        print(\"=========================\")\n",
    "\n"
   ]
  }
 ],
 "metadata": {
  "kernelspec": {
   "display_name": "Python 3",
   "language": "python",
   "name": "python3"
  },
  "language_info": {
   "codemirror_mode": {
    "name": "ipython",
    "version": 3
   },
   "file_extension": ".py",
   "mimetype": "text/x-python",
   "name": "python",
   "nbconvert_exporter": "python",
   "pygments_lexer": "ipython3",
   "version": "3.10.15"
  }
 },
 "nbformat": 4,
 "nbformat_minor": 2
}
