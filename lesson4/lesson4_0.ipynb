{
 "cells": [
  {
   "cell_type": "code",
   "execution_count": null,
   "metadata": {},
   "outputs": [],
   "source": [
    "#公斤轉換為磅\n",
    "KILLO_TO_\n",
    "print(\"公斤轉換為磅:\")\n",
    "\n",
    "kilograms = float(input(\"請輸入公斤\"))\n",
    "\n",
    "pounds = kilograms * 2.20426\n",
    "\n",
    "print(f\"公斤為:{kilograms}公斤 磅={pounds:.3f}磅\")\n",
    "#磅轉換為公斤\n",
    "\n",
    "print(\"磅轉換為公斤:\")\n",
    "\n",
    "pounds = float(input(\"請輸入磅\"))\n",
    "\n",
    "kilograms = pounds / 2.20426\n",
    "\n",
    "print(f\"磅為:{pounds}磅 公斤= {kilograms:.3f}公斤\")"
   ]
  }
 ],
 "metadata": {
  "kernelspec": {
   "display_name": "Python 3",
   "language": "python",
   "name": "python3"
  },
  "language_info": {
   "name": "python",
   "version": "3.10.15"
  }
 },
 "nbformat": 4,
 "nbformat_minor": 2
}
