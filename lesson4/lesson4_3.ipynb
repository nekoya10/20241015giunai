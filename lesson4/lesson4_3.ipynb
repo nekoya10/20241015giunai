{
 "cells": [
  {
   "cell_type": "markdown",
   "metadata": {},
   "source": [
    "## if...eles"
   ]
  },
  {
   "cell_type": "code",
   "execution_count": 8,
   "metadata": {},
   "outputs": [
    {
     "name": "stdout",
     "output_type": "stream",
     "text": [
      "不及格\n",
      "丁\n"
     ]
    }
   ],
   "source": [
    "scores = int(input('請輸入學生分數0~100'))\n",
    "if scores >= 60:\n",
    "    print('及格')\n",
    "    if scores >= 90:\n",
    "        print('優')\n",
    "    else:\n",
    "        print('一般');\n",
    "else: \n",
    "    print('不及格')\n",
    "    if scores >= 50:\n",
    "        print('丙')\n",
    "    else:\n",
    "        print('丁')\n"
   ]
  },
  {
   "cell_type": "code",
   "execution_count": 15,
   "metadata": {},
   "outputs": [
    {
     "name": "stdout",
     "output_type": "stream",
     "text": [
      "優\n"
     ]
    }
   ],
   "source": [
    "scores = int(input('請輸入學生分數0~100'))\n",
    "if scores >= 90:\n",
    "    print('優')\n",
    "else:\n",
    "    if scores >= 80:\n",
    "        print('甲')\n",
    "    else:\n",
    "        if scores >=70:\n",
    "            print('乙')\n",
    "        else:\n",
    "            if scores >= 60:\n",
    "                print('丙')\n",
    "            else:\n",
    "                print('丁')"
   ]
  },
  {
   "cell_type": "code",
   "execution_count": 19,
   "metadata": {},
   "outputs": [
    {
     "name": "stdout",
     "output_type": "stream",
     "text": [
      "乙\n"
     ]
    }
   ],
   "source": [
    "scores = int(input('請輸入學生分數0~100'))\n",
    "if scores >= 90:\n",
    "    print('優')\n",
    "elif scores >= 80:\n",
    "    print('甲')\n",
    "elif scores >=70:\n",
    "    print('乙')\n",
    "elif scores >= 60:\n",
    "    print('丙')\n",
    "else:\n",
    "    print('丁')"
   ]
  }
 ],
 "metadata": {
  "kernelspec": {
   "display_name": "Python 3",
   "language": "python",
   "name": "python3"
  },
  "language_info": {
   "codemirror_mode": {
    "name": "ipython",
    "version": 3
   },
   "file_extension": ".py",
   "mimetype": "text/x-python",
   "name": "python",
   "nbconvert_exporter": "python",
   "pygments_lexer": "ipython3",
   "version": "3.10.15"
  }
 },
 "nbformat": 4,
 "nbformat_minor": 2
}
