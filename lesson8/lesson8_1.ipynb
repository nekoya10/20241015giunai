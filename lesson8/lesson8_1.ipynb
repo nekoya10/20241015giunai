{
 "cells": [
  {
   "cell_type": "markdown",
   "metadata": {},
   "source": [
    "python資料結構\n",
    "\n",
    "tuple->暫時資料,tuple建立後不可以修改\n",
    "\n",
    "list->索引編號,序列資料,可以修改\n",
    "\n",
    "dict->keyvalue\n",
    "\n",
    "set\n"
   ]
  },
  {
   "cell_type": "code",
   "execution_count": null,
   "metadata": {},
   "outputs": [],
   "source": []
  }
 ],
 "metadata": {
  "kernelspec": {
   "display_name": "Python 3",
   "language": "python",
   "name": "python3"
  },
  "language_info": {
   "name": "python",
   "version": "3.10.15"
  }
 },
 "nbformat": 4,
 "nbformat_minor": 2
}
