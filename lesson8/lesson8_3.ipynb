{
 "cells": [
  {
   "cell_type": "code",
   "execution_count": 29,
   "metadata": {},
   "outputs": [
    {
     "name": "stdout",
     "output_type": "stream",
     "text": [
      "潘英迪\n",
      "陳奇瑄\n",
      "楊建安\n",
      "王坤安\n",
      "張凱妮\n"
     ]
    }
   ],
   "source": [
    "import random\n",
    "def get_names(nums:int=2)->list[str]:\n",
    "    with open('names.txt',encoding='utf-8',mode='r') as file:\n",
    "        names_str = file.read()\n",
    "    names:list[str] = names_str.split(sep='\\n')\n",
    "    names = random.choices(names,k=nums)\n",
    "    return names\n",
    "\n",
    "nums = int(input('請輸入學生數量(最多10位):'))\n",
    "student_names:list[str] = get_names(nums=nums)\n",
    "for name in student_names:\n",
    "    print(name)"
   ]
  },
  {
   "cell_type": "code",
   "execution_count": 32,
   "metadata": {},
   "outputs": [],
   "source": [
    "def generate_students(names:list[str])->list[dict]:\n",
    "    students:list[dict] = []\n",
    "    for name in names:\n",
    "        chinese = random.randint(50,100)\n",
    "        english = random.randint(50,100)\n",
    "        math = random.randint(50,100)\n",
    "        student = ({'name':name,'chinese':chinese,'english':english,'math':math})\n",
    "        students.append(student)\n",
    "    return students"
   ]
  },
  {
   "cell_type": "code",
   "execution_count": 31,
   "metadata": {},
   "outputs": [
    {
     "data": {
      "text/plain": [
       "[{'name': '潘英迪', 'chinese': 73, 'english': 90, 'math': 68},\n",
       " {'name': '陳奇瑄', 'chinese': 63, 'english': 66, 'math': 57},\n",
       " {'name': '楊建安', 'chinese': 88, 'english': 86, 'math': 91},\n",
       " {'name': '王坤安', 'chinese': 82, 'english': 67, 'math': 52},\n",
       " {'name': '張凱妮', 'chinese': 68, 'english': 62, 'math': 83}]"
      ]
     },
     "execution_count": 31,
     "metadata": {},
     "output_type": "execute_result"
    }
   ],
   "source": [
    "students = generate_students(names=student_names)\n",
    "students"
   ]
  }
 ],
 "metadata": {
  "kernelspec": {
   "display_name": "Python 3",
   "language": "python",
   "name": "python3"
  },
  "language_info": {
   "codemirror_mode": {
    "name": "ipython",
    "version": 3
   },
   "file_extension": ".py",
   "mimetype": "text/x-python",
   "name": "python",
   "nbconvert_exporter": "python",
   "pygments_lexer": "ipython3",
   "version": "3.10.15"
  }
 },
 "nbformat": 4,
 "nbformat_minor": 2
}
