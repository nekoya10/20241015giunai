{
 "cells": [
  {
   "cell_type": "code",
   "execution_count": 3,
   "metadata": {},
   "outputs": [
    {
     "name": "stdout",
     "output_type": "stream",
     "text": [
      "呂傑宣\n",
      "李佳彥\n",
      "簡佳樺\n",
      "黃翔杰\n",
      "葉志峰\n"
     ]
    }
   ],
   "source": [
    "import random\n",
    "def get_names(nums:int=2)->list[str]:\n",
    "    with open('names.txt',encoding='utf-8',mode='r') as file:\n",
    "        names_str = file.read()\n",
    "    names:list[str] = names_str.split(sep='\\n')\n",
    "    names = random.choices(names,k=nums)\n",
    "    return names\n",
    "\n",
    "nums = int(input('請輸入學生數量(最多10位):'))\n",
    "student_names:list[str] = get_names(nums=nums)\n",
    "for name in student_names:\n",
    "    print(name)"
   ]
  },
  {
   "cell_type": "code",
   "execution_count": 4,
   "metadata": {},
   "outputs": [],
   "source": [
    "def generate_students(names:list[str])->list[dict]:\n",
    "    students:list[dict] = []\n",
    "    for name in names:\n",
    "        chinese = random.randint(50,100)\n",
    "        english = random.randint(50,100)\n",
    "        math = random.randint(50,100)\n",
    "        student = ({'name':name,'chinese':chinese,'english':english,'math':math})\n",
    "        students.append(student)\n",
    "    return students"
   ]
  },
  {
   "cell_type": "code",
   "execution_count": 5,
   "metadata": {},
   "outputs": [
    {
     "data": {
      "text/plain": [
       "[{'name': '呂傑宣', 'chinese': 60, 'english': 65, 'math': 95},\n",
       " {'name': '李佳彥', 'chinese': 78, 'english': 84, 'math': 85},\n",
       " {'name': '簡佳樺', 'chinese': 81, 'english': 62, 'math': 93},\n",
       " {'name': '黃翔杰', 'chinese': 99, 'english': 79, 'math': 69},\n",
       " {'name': '葉志峰', 'chinese': 67, 'english': 89, 'math': 59}]"
      ]
     },
     "execution_count": 5,
     "metadata": {},
     "output_type": "execute_result"
    }
   ],
   "source": [
    "students = generate_students(names=student_names)\n",
    "students"
   ]
  },
  {
   "cell_type": "code",
   "execution_count": 14,
   "metadata": {},
   "outputs": [
    {
     "name": "stdout",
     "output_type": "stream",
     "text": [
      "請輸入人數:5\n",
      "姓名:賴又琦\n",
      "身高:172\n",
      "體重:68\n",
      "BMI:22.99\n",
      "狀態:正常範圍\n",
      "========================\n",
      "姓名:白美珍\n",
      "身高:190\n",
      "體重:71\n",
      "BMI:19.67\n",
      "狀態:正常範圍\n",
      "========================\n",
      "姓名:黃詩妃\n",
      "身高:150\n",
      "體重:64\n",
      "BMI:28.44\n",
      "狀態:輕度肥胖\n",
      "========================\n",
      "姓名:陳向愛\n",
      "身高:186\n",
      "體重:84\n",
      "BMI:24.28\n",
      "狀態:過重\n",
      "========================\n",
      "姓名:李雅怡\n",
      "身高:146\n",
      "體重:58\n",
      "BMI:27.21\n",
      "狀態:輕度肥胖\n",
      "========================\n"
     ]
    }
   ],
   "source": [
    "#建立巢狀資料結構\n",
    "\n",
    "import random\n",
    "def get_names(nums:int=2)->list[str]:\n",
    "    with open(\"names.txt\",mode=\"r\",encoding=\"utf-8\") as file:\n",
    "        names_str = file.read()\n",
    "    names = names_str.split()\n",
    "    names = random.choices(names,k=nums)\n",
    "    return  names\n",
    "\n",
    "def generate_bmi(names:list[str])->list[dict]:\n",
    "    students:list[dict] = [] \n",
    "    for name in names:\n",
    "        height = random.randint(140,190)    # 隨機生成身高:140~190公分\n",
    "        weight = random.randint(50,110)     # 隨機生成體重:50~110公斤\n",
    "        BMI = weight / ((height/100)**2)    # 計算bmi\n",
    "\n",
    "        if BMI >= 35:\n",
    "            status = \"重度肥胖\"\n",
    "        elif BMI >= 30:\n",
    "            status = \"中度肥胖\"\n",
    "        elif BMI >= 27:\n",
    "            status = \"輕度肥胖\"\n",
    "        elif BMI >= 24:\n",
    "            status = \"過重\"\n",
    "        elif BMI >= 18.5:\n",
    "            status = \"正常範圍\"\n",
    "        else:\n",
    "            status = \"體重過輕\"\n",
    "\n",
    "        student = {\n",
    "            \"姓名\":name,\n",
    "            \"身高\":height,\n",
    "            \"體重\":weight,\n",
    "            \"BMI\":round(BMI,2),\n",
    "            \"狀態\":status\n",
    "        }\n",
    "        students.append(student)\n",
    "    return students\n",
    "\n",
    "nums = int(input(\"請輸入人數\"))\n",
    "print(f\"請輸入人數:{nums}\")\n",
    "students = generate_bmi(get_names(nums=nums))\n",
    "for name in students:\n",
    "    for key,value in name.items():\n",
    "        print(f'{key}:{value}')\n",
    "    print(\"========================\")\n",
    "\n",
    "\n"
   ]
  }
 ],
 "metadata": {
  "kernelspec": {
   "display_name": "Python 3",
   "language": "python",
   "name": "python3"
  },
  "language_info": {
   "codemirror_mode": {
    "name": "ipython",
    "version": 3
   },
   "file_extension": ".py",
   "mimetype": "text/x-python",
   "name": "python",
   "nbconvert_exporter": "python",
   "pygments_lexer": "ipython3",
   "version": "3.10.15"
  }
 },
 "nbformat": 4,
 "nbformat_minor": 2
}
