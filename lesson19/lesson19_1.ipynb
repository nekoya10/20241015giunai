{
 "cells": [
  {
   "cell_type": "code",
   "execution_count": 28,
   "metadata": {},
   "outputs": [
    {
     "data": {
      "text/plain": [
       "<bound method DataFrame.info of         年別    類型    觀光遊憩區       細分  縣市別         1月         2月         3月  \\\n",
       "0     2012  國家公園  陽明山國家公園  陽明山遊客中心  臺北市    12187.0    18612.0    18580.0   \n",
       "1     2012  國家公園  陽明山國家公園     陽明書屋  臺北市     2597.0     3617.0     5221.0   \n",
       "2     2012  國家公園  陽明山國家公園     陽明公園  臺北市   161000.0   463000.0   705200.0   \n",
       "3     2012  國家公園  陽明山國家公園    大屯遊憩區  臺北市    17047.0    29079.0    38558.0   \n",
       "4     2012  國家公園  陽明山國家公園   龍鳳谷遊憩區  臺北市    21201.0    22134.0    62447.0   \n",
       "...    ...   ...      ...      ...  ...        ...        ...        ...   \n",
       "3060  2021    其他        -   霧峰林家園區  臺中市    17919.0    22413.0    14562.0   \n",
       "3061  2021    其他        -  臺中國家歌劇院  臺中市    70761.0    58994.0    72877.0   \n",
       "3062  2021    其他        -     一中商圈  臺中市  1142577.0  1227190.0  1167561.0   \n",
       "3063  2021    其他        -     逢甲夜市  臺中市   592042.0   672055.0   698734.0   \n",
       "3064  2021    其他        -   潭雅神綠園道  臺中市   296840.0   405427.0   359029.0   \n",
       "\n",
       "             4月        5月        6月        7月        8月        9月        10月  \\\n",
       "0       13329.0   14179.0   11397.0   16000.0   11791.0   10469.0    11515.0   \n",
       "1        4317.0    3497.0    2815.0    3005.0    2497.0    2764.0     3701.0   \n",
       "2       85600.0   38600.0   28000.0   51700.0   44700.0   39000.0    36000.0   \n",
       "3       34332.0   43906.0   42586.0   63721.0   41881.0   51743.0    38214.0   \n",
       "4       64691.0   16243.0   15811.0   15787.0   16963.0   16176.0    18951.0   \n",
       "...         ...       ...       ...       ...       ...       ...        ...   \n",
       "3060    20850.0    6404.0       0.0     633.0    3896.0    8249.0    15638.0   \n",
       "3061    84679.0   39116.0       0.0    3508.0   33553.0   48770.0    91325.0   \n",
       "3062  1033384.0  415927.0  165821.0  348837.0  515960.0  651131.0  1053106.0   \n",
       "3063   565853.0  259384.0   93986.0  231645.0  398605.0  482115.0   658506.0   \n",
       "3064   599560.0  217254.0       0.0  267140.0  361479.0  389770.0   408215.0   \n",
       "\n",
       "          11月      12月       合計  \n",
       "0      6896.0   9631.0   154586  \n",
       "1      2863.0   2983.0    39877  \n",
       "2     35000.0  33000.0  1720800  \n",
       "3     27467.0  27306.0   455840  \n",
       "4     18136.0  19135.0   307675  \n",
       "...       ...      ...      ...  \n",
       "3060      NaN      NaN   110564  \n",
       "3061      NaN      NaN   503583  \n",
       "3062      NaN      NaN  7721494  \n",
       "3063      NaN      NaN  4652925  \n",
       "3064      NaN      NaN  3304714  \n",
       "\n",
       "[3065 rows x 18 columns]>"
      ]
     },
     "execution_count": 28,
     "metadata": {},
     "output_type": "execute_result"
    }
   ],
   "source": [
    "import pandas as pd\n",
    "\n",
    "df = pd.read_csv('歷年國內主要觀光遊憩據點遊客人數月別統計.csv')\n",
    "df.info"
   ]
  },
  {
   "cell_type": "code",
   "execution_count": 29,
   "metadata": {},
   "outputs": [
    {
     "name": "stdout",
     "output_type": "stream",
     "text": [
      "<class 'pandas.core.frame.DataFrame'>\n",
      "Index: 2741 entries, 0 to 2741\n",
      "Data columns (total 18 columns):\n",
      " #   Column  Non-Null Count  Dtype  \n",
      "---  ------  --------------  -----  \n",
      " 0   年別      2741 non-null   int64  \n",
      " 1   類型      2741 non-null   object \n",
      " 2   觀光遊憩區   2741 non-null   object \n",
      " 3   細分      2741 non-null   object \n",
      " 4   縣市別     2741 non-null   object \n",
      " 5   1月      2741 non-null   float64\n",
      " 6   2月      2741 non-null   float64\n",
      " 7   3月      2741 non-null   float64\n",
      " 8   4月      2741 non-null   float64\n",
      " 9   5月      2741 non-null   float64\n",
      " 10  6月      2741 non-null   float64\n",
      " 11  7月      2741 non-null   float64\n",
      " 12  8月      2741 non-null   float64\n",
      " 13  9月      2741 non-null   float64\n",
      " 14  10月     2741 non-null   float64\n",
      " 15  11月     2741 non-null   float64\n",
      " 16  12月     2741 non-null   float64\n",
      " 17  合計      2741 non-null   int64  \n",
      "dtypes: float64(12), int64(2), object(4)\n",
      "memory usage: 406.9+ KB\n"
     ]
    }
   ],
   "source": [
    "df1 = df.dropna()\n",
    "df1.info()"
   ]
  },
  {
   "cell_type": "code",
   "execution_count": 30,
   "metadata": {},
   "outputs": [
    {
     "name": "stdout",
     "output_type": "stream",
     "text": [
      "<class 'pandas.core.frame.DataFrame'>\n",
      "Index: 2741 entries, 0 to 2741\n",
      "Data columns (total 16 columns):\n",
      " #   Column  Non-Null Count  Dtype  \n",
      "---  ------  --------------  -----  \n",
      " 0   年別      2741 non-null   object \n",
      " 1   觀光遊憩區   2741 non-null   object \n",
      " 2   縣市別     2741 non-null   object \n",
      " 3   1月      2741 non-null   float64\n",
      " 4   2月      2741 non-null   float64\n",
      " 5   3月      2741 non-null   float64\n",
      " 6   4月      2741 non-null   float64\n",
      " 7   5月      2741 non-null   float64\n",
      " 8   6月      2741 non-null   float64\n",
      " 9   7月      2741 non-null   float64\n",
      " 10  8月      2741 non-null   float64\n",
      " 11  9月      2741 non-null   float64\n",
      " 12  10月     2741 non-null   float64\n",
      " 13  11月     2741 non-null   float64\n",
      " 14  12月     2741 non-null   float64\n",
      " 15  合計      2741 non-null   int64  \n",
      "dtypes: float64(12), int64(1), object(3)\n",
      "memory usage: 364.0+ KB\n"
     ]
    }
   ],
   "source": [
    "df2 = df1.drop(columns=['類型','細分'])\n",
    "df2['年別'] = df2['年別'].astype('str')\n",
    "df2.info()"
   ]
  },
  {
   "cell_type": "code",
   "execution_count": 31,
   "metadata": {},
   "outputs": [
    {
     "data": {
      "text/plain": [
       "(2741, 13)"
      ]
     },
     "execution_count": 31,
     "metadata": {},
     "output_type": "execute_result"
    }
   ],
   "source": [
    "df3 = df2.set_index(keys=['年別','觀光遊憩區','縣市別'])\n",
    "df3.columns.name='月份'\n",
    "df3.shape"
   ]
  },
  {
   "cell_type": "code",
   "execution_count": 32,
   "metadata": {},
   "outputs": [
    {
     "data": {
      "text/plain": [
       "(35633,)"
      ]
     },
     "execution_count": 32,
     "metadata": {},
     "output_type": "execute_result"
    }
   ],
   "source": [
    "df4 = df3.stack(level='月份')\n",
    "df4.shape"
   ]
  },
  {
   "cell_type": "code",
   "execution_count": 33,
   "metadata": {},
   "outputs": [
    {
     "data": {
      "text/plain": [
       "<bound method Series.info of 年別    觀光遊憩區    縣市別  月份 \n",
       "2012  陽明山國家公園  臺北市  1月      12187.0\n",
       "                    2月      18612.0\n",
       "                    3月      18580.0\n",
       "                    4月      13329.0\n",
       "                    5月      14179.0\n",
       "                             ...   \n",
       "2020  -        臺中市  9月     113214.0\n",
       "                    10月    158458.0\n",
       "                    11月    106662.0\n",
       "                    12月     92923.0\n",
       "                    合計     997502.0\n",
       "Length: 35633, dtype: float64>"
      ]
     },
     "metadata": {},
     "output_type": "display_data"
    },
    {
     "data": {
      "text/plain": [
       "Index(['1月', '2月', '3月', '4月', '5月', '6月', '7月', '8月', '9月', '10月',\n",
       "       ...\n",
       "       '4月', '5月', '6月', '7月', '8月', '9月', '10月', '11月', '12月', '合計'],\n",
       "      dtype='object', name='月份', length=35633)"
      ]
     },
     "execution_count": 33,
     "metadata": {},
     "output_type": "execute_result"
    }
   ],
   "source": [
    "display(df4.info)\n",
    "df4.index.get_level_values(level='月份')"
   ]
  },
  {
   "cell_type": "code",
   "execution_count": 34,
   "metadata": {},
   "outputs": [
    {
     "data": {
      "text/plain": [
       "Index(['臺北市', '臺北市', '臺北市', '臺北市', '臺北市', '臺北市', '臺北市', '臺北市', '臺北市', '臺北市',\n",
       "       ...\n",
       "       '臺中市', '臺中市', '臺中市', '臺中市', '臺中市', '臺中市', '臺中市', '臺中市', '臺中市', '臺中市'],\n",
       "      dtype='object', name='縣市別', length=35633)"
      ]
     },
     "execution_count": 34,
     "metadata": {},
     "output_type": "execute_result"
    }
   ],
   "source": [
    "#索引的值有重覆,無法作unstack()\n",
    "df4.index.get_level_values(level='縣市別')"
   ]
  },
  {
   "cell_type": "code",
   "execution_count": null,
   "metadata": {},
   "outputs": [],
   "source": [
    "df4.unstack(level='月份')"
   ]
  },
  {
   "cell_type": "code",
   "execution_count": null,
   "metadata": {},
   "outputs": [
    {
     "data": {
      "text/plain": [
       "Index(['10月', '11月', '12月', '1月', '2月', '3月', '4月', '5月', '6月', '7月',\n",
       "       ...\n",
       "       '1月', '2月', '3月', '4月', '5月', '6月', '7月', '8月', '9月', '合計'],\n",
       "      dtype='object', name='月份', length=286)"
      ]
     },
     "execution_count": 22,
     "metadata": {},
     "output_type": "execute_result"
    }
   ],
   "source": [
    "df5 = df4.groupby(level=['縣市別','月份']).sum()\n",
    "df5.index.get_level_values('縣市別')\n",
    "df5.index.get_level_values('月份')\n"
   ]
  },
  {
   "cell_type": "code",
   "execution_count": null,
   "metadata": {},
   "outputs": [],
   "source": [
    "df5.unstack(level='月份')\n",
    "df5.unstack(level='縣市別')"
   ]
  },
  {
   "cell_type": "code",
   "execution_count": null,
   "metadata": {},
   "outputs": [],
   "source": [
    "df6 = df4.groupby(level=['縣市別','月份','年別']).sum()\n",
    "df6.unstack(level=['年別','月份'])\n",
    "df6.unstack(level=['縣市別'])"
   ]
  }
 ],
 "metadata": {
  "kernelspec": {
   "display_name": "Python 3",
   "language": "python",
   "name": "python3"
  },
  "language_info": {
   "codemirror_mode": {
    "name": "ipython",
    "version": 3
   },
   "file_extension": ".py",
   "mimetype": "text/x-python",
   "name": "python",
   "nbconvert_exporter": "python",
   "pygments_lexer": "ipython3",
   "version": "3.10.15"
  }
 },
 "nbformat": 4,
 "nbformat_minor": 2
}
