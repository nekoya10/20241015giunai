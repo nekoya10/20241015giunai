{
 "cells": [
  {
   "cell_type": "code",
   "execution_count": 10,
   "metadata": {},
   "outputs": [],
   "source": [
    "import os\n",
    "from dotenv import load_dotenv\n",
    "\n",
    "load_dotenv()\n",
    "key=os.environ['Gemini_API_KEY']"
   ]
  },
  {
   "cell_type": "code",
   "execution_count": 11,
   "metadata": {},
   "outputs": [
    {
     "name": "stdout",
     "output_type": "stream",
     "text": [
      "```html\n",
      "<!DOCTYPE html>\n",
      "<html lang=\"zh-TW\">\n",
      "<head>\n",
      "    <meta charset=\"UTF-8\">\n",
      "    <meta name=\"viewport\" content=\"width=device-width, initial-scale=1.0\">\n",
      "    <title>如何學習 Python</title>\n",
      "    <style>\n",
      "        body {\n",
      "            font-family: sans-serif;\n",
      "            line-height: 1.6;\n",
      "        }\n",
      "        h1, h2 {\n",
      "            color: #333;\n",
      "        }\n",
      "        ul {\n",
      "            list-style-type: disc;\n",
      "            margin-left: 20px;\n",
      "        }\n",
      "        a {\n",
      "            color: #007bff;\n",
      "            text-decoration: none;\n",
      "        }\n",
      "        a:hover {\n",
      "            text-decoration: underline;\n",
      "        }\n",
      "    </style>\n",
      "</head>\n",
      "<body>\n",
      "\n",
      "    <h1>如何學習 Python</h1>\n",
      "\n",
      "    <p>學習 Python 的過程可以分解成幾個階段，循序漸進地學習才能事半功倍。</p>\n",
      "\n",
      "    <h2>一、 找到適合你的學習資源</h2>\n",
      "\n",
      "    <ul>\n",
      "        <li><strong>線上課程：</strong>\n",
      "            <ul>\n",
      "                <li><a href=\"https://www.coursera.org/\" target=\"_blank\">Coursera</a>: 提供許多 Python 課程，包含入門到進階。</li>\n",
      "                <li><a href=\"https://www.udemy.com/\" target=\"_blank\">Udemy</a>:  提供大量的 Python 課程，價格範圍廣泛。</li>\n",
      "                <li><a href=\"https://www.codecademy.com/\" target=\"_blank\">Codecademy</a>:  互動式學習平台，適合初學者。</li>\n",
      "                <li><a href=\"https://www.youtube.com/\" target=\"_blank\">YouTube</a>:  許多教學影片可供參考，但需注意影片品質的差異。</li>\n",
      "            </ul>\n",
      "        </li>\n",
      "        <li><strong>書籍：</strong> 許多優秀的 Python 教學書籍，可以選擇適合自己程度的書籍。</li>\n",
      "        <li><strong>官方文件：</strong> Python 的官方文件非常詳盡，是進階學習的重要資源。</li>\n",
      "    </ul>\n",
      "\n",
      "    <h2>二、 制定學習計畫</h2>\n",
      "\n",
      "    <p>建議設定每日或每週的學習目標，例如：學習特定章節、完成指定練習等等。 持續且規律的學習比一次大量學習更有效率。</p>\n",
      "\n",
      "    <h2>三、 練習實作</h2>\n",
      "\n",
      "    <p>學習程式設計最重要的就是<strong>實作</strong>。  不要只看教學，一定要動手寫程式碼，嘗試解決不同的問題。  可以從簡單的程式開始，例如：計算器、文字遊戲等等，循序漸進地提升難度。</p>\n",
      "\n",
      "    <h2>四、 加入社群</h2>\n",
      "\n",
      "    <p>加入 Python 的社群，可以向其他人請教問題，也能從其他人的經驗中學習。  可以利用線上論壇或社群媒體尋找相關社群。</p>\n",
      "\n",
      "    <h2>五、 持續學習</h2>\n",
      "\n",
      "    <p>Python 的應用非常廣泛，持續學習新的知識和技術非常重要。  可以關注相關的部落格、新聞或參與線上研討會等。</p>\n",
      "\n",
      "\n",
      "    <h2>六、 建議的學習路徑 (入門)</h2>\n",
      "\n",
      "    <ol>\n",
      "        <li>基本語法：變數、資料型態、運算子、條件判斷、迴圈。</li>\n",
      "        <li>資料結構：串列、元組、字典、集合。</li>\n",
      "        <li>函式：定義函式、參數、回傳值。</li>\n",
      "        <li>物件導向程式設計 (OOP) 的基本概念。</li>\n",
      "        <li>檔案操作：讀寫檔案。</li>\n",
      "        <li>模組和套件的使用。</li>\n",
      "    </ol>\n",
      "\n",
      "    <p>祝你學習愉快！</p>\n",
      "</body>\n",
      "</html>\n",
      "```\n",
      "\n"
     ]
    },
    {
     "name": "stderr",
     "output_type": "stream",
     "text": [
      "Bad pipe message: %s [b'\"Google Chrome\";v=\"131\", \"Chromium\";v=\"131\", \"Not_A Brand']\n",
      "Bad pipe message: %s [b'ol: max-age=0\\r\\nsec-ch-ua: \"Google Chrome\";v=\"131\", \"Chromium\";v=\"131\", \"Not_A Brand\";v=\"24\"\\r\\nsec-ch-ua-mobile: ?0\\r\\n']\n",
      "Bad pipe message: %s [b'c-ch-ua-platform: \"Windows\"\\r\\nUpgrade-Insecure-Requests: 1\\r\\nUser-Agent: Mozilla/5.0 (Windows NT 10.0; Win64; x64) A', b'leWebKit/537.36 (KHTML, like Gecko) Chrome/131.0.0.0 Safari/537.36\\r\\nAccept: text/html,application/xhtml+xml,app']\n",
      "Bad pipe message: %s [b'cation/xml;q=0.9,image/avif,image/webp,image/apng,*/*;q=0.8,application/signed-exchange;v=b3;q=0.7\\r\\nSec-Fet', b'-Site: none\\r\\nSec-Fetch-Mode: navigate\\r\\nSec-Fetch-User: ?1\\r\\nSec-Fetch-Dest: document\\r\\nAccept-Encodi']\n",
      "Bad pipe message: %s [b'ol: max-age=0\\r\\nsec-ch-ua: \"Google Chrome\";v=\"131\", \"Chromium\";v=\"131\", \"Not_A Brand\";v=\"24\"\\r\\nsec-ch-ua-mobile: ?0\\r\\n']\n",
      "Bad pipe message: %s [b'c-ch-ua-platform: \"Windows\"\\r\\nUpgrade-Insecure-Requests: 1\\r\\nUser-Agent: Mozilla/5.0 (Windows NT 10.0; Win64; x64) A', b'leWebKit/537.36 (KHTML, like Gecko) Chrome/131.0.0.0 Safari/537.36\\r\\nAccept: text/html,application/xhtml+xml,app']\n",
      "Bad pipe message: %s [b'cation/xml;q=0.9,image/avif,image/webp,image/apng,*/*;q=0.8,application/signed-exchange;v=b3;q=0.7\\r\\nSec-Fet', b'-Site: cross-site\\r\\nSec-Fetch-Mode: navigate\\r\\nSec-Fetch-User: ?1\\r\\nSec-Fetch-Dest: document\\r\\nAccept-']\n",
      "Bad pipe message: %s [b'coding: gzip, deflate, br, zstd\\r\\nAccept-Language: zh-TW,zh;q=0.9,en-']\n",
      "Bad pipe message: %s [b'\"Google Chrome\";v=\"131\", \"Chromium\";v=\"131\", \"Not_A Brand']\n",
      "Bad pipe message: %s [b'ol: max-age=0\\r\\nsec-ch-ua: \"Google Chrome\";v=\"131\", \"Chromium\";v=\"131\", \"Not_A Brand\";v=\"24\"\\r\\nsec-ch-ua-mobile: ?0\\r\\n']\n",
      "Bad pipe message: %s [b'c-ch-ua-platform: \"Windows\"\\r\\nUpgrade-Insecure-Requests: 1\\r\\nUser-Agent: Mozilla/5.0 (Windows NT 10.0; Win64; x64) A', b'leWebKit/537.36 (KHTML, like Gecko) Chrome/131.0.0.0 Safari/537.36\\r\\nAccept: text/html,application/xhtml+xml,app']\n",
      "Bad pipe message: %s [b'cation/xml;q=0.9,image/avif,image/webp,image/apng,*/*;q=0.8,application/signed-exchange;v=b3;q=0.7\\r\\nSec-Fet', b'-Site: none\\r\\nSec-Fetch-Mode: navigate\\r\\nSec-Fetch-User: ?1\\r\\nSec-Fetch-Dest: document\\r\\nAccept-Encodi']\n"
     ]
    }
   ],
   "source": [
    "import google.generativeai as genai\n",
    "\n",
    "genai.configure(api_key=key)\n",
    "model = genai.GenerativeModel(\"gemini-1.5-flash\")\n",
    "response = model.generate_content(\"如何學習python?,回應請輸出成為html格式\")\n",
    "print(response.text)"
   ]
  }
 ],
 "metadata": {
  "kernelspec": {
   "display_name": "Python 3",
   "language": "python",
   "name": "python3"
  },
  "language_info": {
   "codemirror_mode": {
    "name": "ipython",
    "version": 3
   },
   "file_extension": ".py",
   "mimetype": "text/x-python",
   "name": "python",
   "nbconvert_exporter": "python",
   "pygments_lexer": "ipython3",
   "version": "3.10.15"
  }
 },
 "nbformat": 4,
 "nbformat_minor": 2
}
