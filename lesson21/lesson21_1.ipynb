{
 "cells": [
  {
   "cell_type": "code",
   "execution_count": 6,
   "metadata": {},
   "outputs": [
    {
     "ename": "SyntaxError",
     "evalue": "invalid syntax (1686674913.py, line 1)",
     "output_type": "error",
     "traceback": [
      "\u001b[0;36m  Cell \u001b[0;32mIn[6], line 1\u001b[0;36m\u001b[0m\n\u001b[0;31m    Import os\u001b[0m\n\u001b[0m           ^\u001b[0m\n\u001b[0;31mSyntaxError\u001b[0m\u001b[0;31m:\u001b[0m invalid syntax\n"
     ]
    }
   ],
   "source": [
    "Import os\n",
    "\n",
    "key=os.envirom['Gemini_API_KEY']"
   ]
  },
  {
   "cell_type": "code",
   "execution_count": 5,
   "metadata": {},
   "outputs": [
    {
     "name": "stdout",
     "output_type": "stream",
     "text": [
      "```html\n",
      "<!DOCTYPE html>\n",
      "<html lang=\"zh-TW\">\n",
      "<head>\n",
      "    <meta charset=\"UTF-8\">\n",
      "    <meta name=\"viewport\" content=\"width=device-width, initial-scale=1.0\">\n",
      "    <title>如何學習 Python</title>\n",
      "    <style>\n",
      "        body {\n",
      "            font-family: sans-serif;\n",
      "            line-height: 1.6;\n",
      "        }\n",
      "        h1, h2 {\n",
      "            color: #333;\n",
      "        }\n",
      "        ul {\n",
      "            list-style-type: disc;\n",
      "            margin-left: 20px;\n",
      "        }\n",
      "        a {\n",
      "            color: #007bff;\n",
      "            text-decoration: none;\n",
      "        }\n",
      "        a:hover {\n",
      "            text-decoration: underline;\n",
      "        }\n",
      "    </style>\n",
      "</head>\n",
      "<body>\n",
      "    <h1>如何學習 Python</h1>\n",
      "\n",
      "    <p>學習 Python 是一個循序漸進的過程，以下是一些建議的步驟：</p>\n",
      "\n",
      "    <h2>1. 選擇學習資源</h2>\n",
      "    <ul>\n",
      "        <li><strong>線上課程：</strong>\n",
      "            <ul>\n",
      "                <li><a href=\"https://www.codecademy.com/learn/learn-python-3\" target=\"_blank\">Codecademy</a> (互動式學習)</li>\n",
      "                <li><a href=\"https://www.coursera.org/learn/python\" target=\"_blank\">Coursera</a> (大學等級課程，部分免費)</li>\n",
      "                <li><a href=\"https://www.udacity.com/course/introduction-to-programming-nanodegree--nd000\" target=\"_blank\">Udacity</a> (專案導向學習)</li>\n",
      "                <li><a href=\"https://www.youtube.com/results?search_query=python+tutorial\" target=\"_blank\">YouTube 教學影片</a> (多樣選擇，需自行篩選)</li>\n",
      "            </ul>\n",
      "        </li>\n",
      "        <li><strong>書籍：</strong>\n",
      "            <ul>\n",
      "                <li>《Python 程式設計入門》（適合初學者）</li>\n",
      "                <li>《流畅的Python》(適合進階學習)</li>\n",
      "                <!-- Add more books here -->\n",
      "            </ul>\n",
      "        </li>\n",
      "        <li><strong>官方文件：</strong> <a href=\"https://docs.python.org/3/\" target=\"_blank\">Python 官方文件</a> (最權威的資源，適合查閱特定功能)</li>\n",
      "    </ul>\n",
      "\n",
      "    <h2>2. 制定學習計畫</h2>\n",
      "    <p>根據自身情況，制定一個可行的學習計畫，例如每天學習 1-2 小時，設定短期目標(例如，學習基本語法、完成一個小專案)，並定期檢討進度。</p>\n",
      "\n",
      "    <h2>3. 練習編寫程式碼</h2>\n",
      "    <p>程式設計是實踐的學問，只有不斷練習才能真正掌握。建議從簡單的程式開始，逐步提高難度。</p>\n",
      "\n",
      "    <h2>4. 建立專案</h2>\n",
      "    <p>完成學習後，嘗試建立一些小專案來應用所學的知識，例如：計算器、文字遊戲、簡單的網頁爬蟲等。這能幫助你更深入地理解 Python 的應用。</p>\n",
      "\n",
      "    <h2>5. 加入社群</h2>\n",
      "    <p>加入 Python 社群，與其他學習者交流經驗，互相學習，解決遇到的問題。</p>\n",
      "\n",
      "    <h2>6. 持續學習</h2>\n",
      "    <p>Python 的應用範圍很廣，持續學習新的知識和技術，才能保持競爭力。</p>\n",
      "\n",
      "\n",
      "    <p>祝您學習愉快！</p>\n",
      "</body>\n",
      "</html>\n",
      "```\n",
      "\n"
     ]
    }
   ],
   "source": [
    "import google.generativeai as genai\n",
    "\n",
    "genai.configure(api_key=key)\n",
    "model = genai.GenerativeModel(\"gemini-1.5-flash\")\n",
    "response = model.generate_content(\"如何學習python?,回應請輸出成為html格式\")\n",
    "print(response.text)"
   ]
  }
 ],
 "metadata": {
  "kernelspec": {
   "display_name": "Python 3",
   "language": "python",
   "name": "python3"
  },
  "language_info": {
   "codemirror_mode": {
    "name": "ipython",
    "version": 3
   },
   "file_extension": ".py",
   "mimetype": "text/x-python",
   "name": "python",
   "nbconvert_exporter": "python",
   "pygments_lexer": "ipython3",
   "version": "3.10.15"
  }
 },
 "nbformat": 4,
 "nbformat_minor": 2
}
