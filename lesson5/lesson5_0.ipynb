{
 "cells": [
  {
   "cell_type": "code",
   "execution_count": 12,
   "metadata": {},
   "outputs": [
    {
     "name": "stdout",
     "output_type": "stream",
     "text": [
      "您的BMI值:20.8\n",
      "您的體重:正常範圍\n"
     ]
    }
   ],
   "source": [
    "try:\n",
    "    height = eval(input(\"輸入身高(公尺)\"))\n",
    "    kg = eval(input(\"輸入體重(公斤)\"))\n",
    "    H = height / 100\n",
    "    BMI = kg/H**2\n",
    "    print(f\"您的BMI值:{BMI:.1f}\")\n",
    "\n",
    "    if BMI >= 35:\n",
    "        print(\"您的體重:重度肥胖\")\n",
    "    elif BMI >= 30:\n",
    "        print(\"您的體重:中度肥胖\")\n",
    "    elif BMI >= 27:\n",
    "        print(\"您的體重:輕度肥胖\")\n",
    "    elif BMI >= 24:\n",
    "        print(\"您的體重:過重\")\n",
    "    elif BMI >= 18.5:\n",
    "        print(\"您的體重:正常範圍\")\n",
    "    else:\n",
    "        print(\"您的體重:體重過輕\")\n",
    "\n",
    "except:\n",
    "    print(\"格式錯誤\")"
   ]
  }
 ],
 "metadata": {
  "kernelspec": {
   "display_name": "Python 3",
   "language": "python",
   "name": "python3"
  },
  "language_info": {
   "codemirror_mode": {
    "name": "ipython",
    "version": 3
   },
   "file_extension": ".py",
   "mimetype": "text/x-python",
   "name": "python",
   "nbconvert_exporter": "python",
   "pygments_lexer": "ipython3",
   "version": "3.10.15"
  }
 },
 "nbformat": 4,
 "nbformat_minor": 2
}
