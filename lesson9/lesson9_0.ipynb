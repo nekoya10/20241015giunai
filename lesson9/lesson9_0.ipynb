{
 "cells": [
  {
   "cell_type": "markdown",
   "metadata": {},
   "source": [
    "module+package裡面可以放常數(function)類別(class)"
   ]
  },
  {
   "cell_type": "code",
   "execution_count": null,
   "metadata": {},
   "outputs": [
    {
     "name": "stdout",
     "output_type": "stream",
     "text": [
      "姓名:王士銘\n",
      "身高:148\n",
      "體重:76\n",
      "BMI:34.7\n",
      "狀態:中度肥胖\n",
      "==================\n",
      "姓名:龐皓芳\n",
      "身高:150\n",
      "體重:83\n",
      "BMI:36.89\n",
      "狀態:重度肥胖\n",
      "==================\n",
      "姓名:吳欣書\n",
      "身高:173\n",
      "體重:102\n",
      "BMI:34.08\n",
      "狀態:中度肥胖\n",
      "==================\n"
     ]
    }
   ],
   "source": [
    "import random\n",
    "\n",
    "def get_name(nums:int=2)->list[str]:\n",
    "    with open('names.txt',mode='r',encoding='utf-8') as file:\n",
    "        names_str = file.read()\n",
    "    names = names_str.split()\n",
    "    names = random.choices(names,k=nums)\n",
    "    return  names\n",
    "\n",
    "def generate_bmi(names:list[str])->list[dict]:\n",
    "    students:list[dict] = []\n",
    "    for name in names:\n",
    "        height = random.randint(140,190)# 隨機生成身高:140~190公分\n",
    "        weight = random.randint(50,110)# 隨機生成體重:50~110公斤\n",
    "        BMI = weight / ((height/100)**2)# 計算bmi\n",
    "        if BMI >= 35:\n",
    "            status = \"重度肥胖\"\n",
    "        elif BMI >= 30:\n",
    "            status = \"中度肥胖\"\n",
    "        elif BMI >= 27:\n",
    "            status = \"輕度肥胖\"\n",
    "        elif BMI >= 24:\n",
    "            status = \"過重\"\n",
    "        elif BMI >= 18.5:\n",
    "            status = \"正常範圍\"\n",
    "        else:\n",
    "            status = \"體重過輕\"\n",
    "        student = {\n",
    "            '姓名':name,\n",
    "            '身高':height,\n",
    "            '體重':weight,\n",
    "            'BMI':round(BMI,2),\n",
    "            '狀態':status\n",
    "        }\n",
    "        students.append(student)\n",
    "    return students\n",
    "\n",
    "\n",
    "nums = int(input('請輸入人數:'))\n",
    "names:list[str] = get_name(nums=nums)\n",
    "students:list[dict] = generate_bmi(names=names)\n",
    "for student in students:\n",
    "    for key,value in student.items():\n",
    "        print(f'{key}:{value}')\n",
    "    print(\"==================\")"
   ]
  }
 ],
 "metadata": {
  "kernelspec": {
   "display_name": "Python 3",
   "language": "python",
   "name": "python3"
  },
  "language_info": {
   "codemirror_mode": {
    "name": "ipython",
    "version": 3
   },
   "file_extension": ".py",
   "mimetype": "text/x-python",
   "name": "python",
   "nbconvert_exporter": "python",
   "pygments_lexer": "ipython3",
   "version": "3.10.15"
  }
 },
 "nbformat": 4,
 "nbformat_minor": 2
}
