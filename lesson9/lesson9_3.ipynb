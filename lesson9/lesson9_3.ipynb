{
 "cells": [
  {
   "cell_type": "code",
   "execution_count": 14,
   "metadata": {},
   "outputs": [],
   "source": [
    "class Person(object):\n",
    "    def __init__(self,name:str,age:int): #自訂的初始化,自訂參數\n",
    "        self.name = name #建立attribute name\n",
    "        self.age = age #建立attribute age\n",
    "    \n",
    "    def echo(self): #自訂的實體方法\n",
    "        print(f\"我的名字是:{self.name}\")\n",
    "        print(f'我的年齡是:{self.age}')\n",
    "\n",
    "class Student(Person):\n",
    "    def __init__(self,name:str,age:int,score:int):\n",
    "        super().__init__(name=name,age=age)\n",
    "        self.score = score\n",
    "\n",
    "    def echo(self):\n",
    "        super().echo()\n",
    "        print(f'我的分數是:{self.score}')"
   ]
  },
  {
   "cell_type": "code",
   "execution_count": 17,
   "metadata": {},
   "outputs": [
    {
     "name": "stdout",
     "output_type": "stream",
     "text": [
      "我的名字是:小明\n",
      "我的年齡是:20\n",
      "我的分數是:100\n"
     ]
    }
   ],
   "source": [
    "s1:Student = Student(name=\"小明\",age=20,score=100)\n",
    "s1.echo()"
   ]
  },
  {
   "cell_type": "code",
   "execution_count": 16,
   "metadata": {},
   "outputs": [
    {
     "name": "stdout",
     "output_type": "stream",
     "text": [
      "我的名字是:robert\n",
      "我的年齡是:33\n",
      "我的分數是:150\n"
     ]
    }
   ],
   "source": [
    "s2:Student = Student(name=\"robert\",age=33,score=150)\n",
    "s2.echo()"
   ]
  },
  {
   "cell_type": "code",
   "execution_count": 18,
   "metadata": {},
   "outputs": [
    {
     "name": "stdout",
     "output_type": "stream",
     "text": [
      "我的名字是:小明\n",
      "我的年齡是:20\n",
      "我的分數是:100\n",
      "====================\n",
      "我的名字是:robert\n",
      "我的年齡是:33\n",
      "我的分數是:150\n",
      "====================\n"
     ]
    }
   ],
   "source": [
    "Students:list[Student] = [s1,s2]\n",
    "for student in Students:\n",
    "    student.echo()\n",
    "    print(\"====================\")"
   ]
  }
 ],
 "metadata": {
  "kernelspec": {
   "display_name": "Python 3",
   "language": "python",
   "name": "python3"
  },
  "language_info": {
   "codemirror_mode": {
    "name": "ipython",
    "version": 3
   },
   "file_extension": ".py",
   "mimetype": "text/x-python",
   "name": "python",
   "nbconvert_exporter": "python",
   "pygments_lexer": "ipython3",
   "version": "3.10.15"
  }
 },
 "nbformat": 4,
 "nbformat_minor": 2
}
