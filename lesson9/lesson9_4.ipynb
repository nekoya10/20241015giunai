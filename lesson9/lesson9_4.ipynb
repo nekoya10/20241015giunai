{
 "cells": [
  {
   "cell_type": "code",
   "execution_count": 7,
   "metadata": {},
   "outputs": [],
   "source": [
    "class BMI():\n",
    "    def __init__(self,name:str,height:int,weight:int):\n",
    "        self.name = name\n",
    "        self.height = height\n",
    "        self.weight = weight\n",
    "\n",
    "    def get_bmi(self)->float:\n",
    "        return round(self.weight / (self.height / 100) ** 2,ndigits=2)\n",
    "    \n",
    "    def get_status(self)->str:\n",
    "        bmi = self.get_bmi()\n",
    "        if bmi >= 35:\n",
    "            status = \"您的體重:重度肥胖\"\n",
    "        elif bmi >= 30:\n",
    "            status = \"您的體重:中度肥胖\"\n",
    "        elif bmi >= 27:\n",
    "            status = \"您的體重:輕度肥胖\"\n",
    "        elif bmi >= 24:\n",
    "            status = \"您的體重:過重\"\n",
    "        elif bmi >= 30:\n",
    "            status = \"您的體重:正常範圍\"\n",
    "        else:\n",
    "            status = \"您的體重:過輕\"\n",
    "        \n",
    "        return status\n",
    "        "
   ]
  },
  {
   "cell_type": "code",
   "execution_count": 8,
   "metadata": {},
   "outputs": [
    {
     "data": {
      "text/plain": [
       "(24.49, '您的體重:過重')"
      ]
     },
     "execution_count": 8,
     "metadata": {},
     "output_type": "execute_result"
    }
   ],
   "source": [
    "p1 = BMI(name=\"小明\",height=175,weight=75)\n",
    "p1.get_bmi(),p1.get_status()"
   ]
  },
  {
   "cell_type": "code",
   "execution_count": 9,
   "metadata": {},
   "outputs": [
    {
     "data": {
      "text/plain": [
       "(22.04, '您的體重:過輕')"
      ]
     },
     "execution_count": 9,
     "metadata": {},
     "output_type": "execute_result"
    }
   ],
   "source": [
    "p2 = BMI(name=\"小美\",height=165,weight=60)\n",
    "p2.get_bmi(),p2.get_status()"
   ]
  }
 ],
 "metadata": {
  "kernelspec": {
   "display_name": "Python 3",
   "language": "python",
   "name": "python3"
  },
  "language_info": {
   "codemirror_mode": {
    "name": "ipython",
    "version": 3
   },
   "file_extension": ".py",
   "mimetype": "text/x-python",
   "name": "python",
   "nbconvert_exporter": "python",
   "pygments_lexer": "ipython3",
   "version": "3.10.15"
  }
 },
 "nbformat": 4,
 "nbformat_minor": 2
}
