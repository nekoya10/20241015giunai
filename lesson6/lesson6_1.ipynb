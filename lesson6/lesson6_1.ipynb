{
 "cells": [
  {
   "cell_type": "code",
   "execution_count": 1,
   "metadata": {},
   "outputs": [
    {
     "name": "stdout",
     "output_type": "stream",
     "text": [
      "恭喜已經存夠了,存了3個月的總存款為:33000元\n"
     ]
    }
   ],
   "source": [
    "#小明想要存錢買一輛機車,機車每輛30000元，他將每月存的錢輸入，當存款足夠買機車時，就顯示提示訊息告知。\n",
    "deposit = 0\n",
    "month = 0\n",
    "\n",
    "while(True):\n",
    "    month += 1\n",
    "    money = int(input(f\"請輸入第{month}月份的存款\"))\n",
    "    deposit += money\n",
    "    if deposit >= 30000:\n",
    "        break\n",
    "print(f\"恭喜已經存夠了,存了{month}個月的總存款為:{deposit}元\")"
   ]
  },
  {
   "cell_type": "code",
   "execution_count": 1,
   "metadata": {},
   "outputs": [
    {
     "name": "stdout",
     "output_type": "stream",
     "text": [
      "應用程式結束\n"
     ]
    }
   ],
   "source": [
    "#請輸入小寫英文字,輸出第一個字大寫的英文字,如果按q將離開應用程式\n",
    "\n",
    "while(True):\n",
    "    stuff = input(\"請輸入小寫英文字[按q會離開]:\")\n",
    "    if stuff.upper() == 'Q':\n",
    "        break\n",
    "    print(stuff.capitalize())\n",
    "print(\"應用程式結束\")"
   ]
  },
  {
   "cell_type": "code",
   "execution_count": 9,
   "metadata": {},
   "outputs": [
    {
     "name": "stdout",
     "output_type": "stream",
     "text": [
      "81\n",
      "6561\n"
     ]
    }
   ],
   "source": [
    "'''\n",
    "docstring\n",
    "顯示:\n",
    "請輸入整數,輸入[q]離開\n",
    "輸入的格式錯誤,要求重新輸入\n",
    "奇數輸出平方\n",
    "偶數不做任何動作\n",
    "'q'要離開\n",
    "'''\n",
    "#docstring在文件最上方\n",
    "\n",
    "while(True):\n",
    "    value = input(\"請輸入整數,輸入[q]離開\")\n",
    "    if value.upper() == 'Q':\n",
    "        break\n",
    "    try:\n",
    "        value_int = int(value)\n",
    "    except:\n",
    "        print(\"請重新輸入\")\n",
    "        continue\n",
    "    if not (value_int % 2) == 0:\n",
    "        print(value_int**2)\n",
    "    "
   ]
  },
  {
   "cell_type": "code",
   "execution_count": null,
   "metadata": {},
   "outputs": [],
   "source": [
    "#會數學計算\n",
    "#流程控制\n",
    "#會建立亂數\n",
    "#猜數字遊戲"
   ]
  },
  {
   "cell_type": "code",
   "execution_count": null,
   "metadata": {},
   "outputs": [
    {
     "data": {
      "text/plain": [
       "2"
      ]
     },
     "execution_count": 10,
     "metadata": {},
     "output_type": "execute_result"
    }
   ],
   "source": [
    "#建立亂數\n",
    "import random\n",
    "random.randint(1,10)"
   ]
  },
  {
   "cell_type": "code",
   "execution_count": 17,
   "metadata": {},
   "outputs": [
    {
     "name": "stdout",
     "output_type": "stream",
     "text": [
      "==========猜數字遊戲==========\n",
      "\n",
      "再大一點\n",
      "您已經猜了1次\n",
      "=====================\n",
      "再小一點\n",
      "您已經猜了2次\n",
      "=====================\n",
      "再小一點\n",
      "您已經猜了3次\n",
      "=====================\n",
      "再大一點\n",
      "您已經猜了4次\n",
      "=====================\n",
      "再大一點\n",
      "您已經猜了5次\n",
      "=====================\n",
      "再小一點\n",
      "您已經猜了6次\n",
      "=====================\n",
      "再小一點\n",
      "您已經猜了7次\n",
      "=====================\n",
      "猜對了,答案是:61~\n",
      "您總共猜了8次\n",
      "=====================\n",
      "應用程式結束\n"
     ]
    }
   ],
   "source": [
    "\n",
    "import random\n",
    "\n",
    "min = 1\n",
    "max = 100\n",
    "count = 0\n",
    "target = random.randint(min,max)\n",
    "print(\"==========猜數字遊戲==========\\n\")\n",
    "\n",
    "while(True):\n",
    "    count += 1\n",
    "    try:\n",
    "        keyin = int(input(f\"猜數字範圍{min}~{max}:\"))\n",
    "    except Exception:\n",
    "        print(\"請重新輸入\")\n",
    "        continue\n",
    "    if keyin >= min and keyin <= max:\n",
    "        if(keyin == target):\n",
    "            print(f\"猜對了,答案是:{target}~\")\n",
    "            print(f\"您總共猜了{count}次\")\n",
    "            print(\"=====================\")\n",
    "            break\n",
    "        elif keyin > target:\n",
    "            print(\"再小一點\")\n",
    "            max = keyin - 1\n",
    "        elif keyin < target:\n",
    "            print(\"再大一點\")\n",
    "            min = keyin + 1\n",
    "        print(f\"您已經猜了{count}次\")\n",
    "        print(\"=====================\")\n",
    "\n",
    "    else:\n",
    "        print(\"超出範圍,請重新輸入\")\n",
    "print(\"應用程式結束\")\n"
   ]
  },
  {
   "cell_type": "code",
   "execution_count": null,
   "metadata": {},
   "outputs": [],
   "source": []
  }
 ],
 "metadata": {
  "kernelspec": {
   "display_name": "Python 3",
   "language": "python",
   "name": "python3"
  },
  "language_info": {
   "codemirror_mode": {
    "name": "ipython",
    "version": 3
   },
   "file_extension": ".py",
   "mimetype": "text/x-python",
   "name": "python",
   "nbconvert_exporter": "python",
   "pygments_lexer": "ipython3",
   "version": "3.10.15"
  }
 },
 "nbformat": 4,
 "nbformat_minor": 2
}
