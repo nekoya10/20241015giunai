{
 "cells": [
  {
   "cell_type": "code",
   "execution_count": null,
   "metadata": {},
   "outputs": [],
   "source": [
    "#減少文件程式碼\n",
    "\n",
    "def func1():\n",
    "    print(\"第5行程式\")\n",
    "    print(\"第6行程式\")\n",
    "    print(\"第7行程式\")\n",
    "    print(\"第8行程式\")\n",
    "    print(\"第9行程式\")\n",
    "    print(\"第10行程式\")\n",
    "def func2():\n",
    "    print(\"第15行程式\")\n",
    "    print(\"第16行程式\")\n",
    "    print(\"第17行程式\")\n",
    "    print(\"第18行程式\")\n",
    "    print(\"第19行程式\")\n",
    "    print(\"第20行程式\")\n",
    "print(\"第1行程式\")\n",
    "print(\"第2行程式\")\n",
    "print(\"第3行程式\")\n",
    "print(\"第4行程式\")\n",
    "#呼叫func1\n",
    "func1()\n",
    "print(\"第11行程式\")\n",
    "print(\"第12行程式\")\n",
    "print(\"第13行程式\")\n",
    "print(\"第14行程式\")\n",
    "#呼叫func2\n",
    "func2()\n",
    "\n"
   ]
  },
  {
   "cell_type": "code",
   "execution_count": 6,
   "metadata": {},
   "outputs": [
    {
     "name": "stdout",
     "output_type": "stream",
     "text": [
      "a=78.539815\n",
      "a1=706.858335\n"
     ]
    }
   ],
   "source": [
    "def circle_area(radius:int)->float: #有參數,有引數值得func\n",
    "    area = 3.1415926 * radius ** 2\n",
    "    return area\n",
    "\n",
    "r = int(input(\"請輸入半徑:\"))\n",
    "a = circle_area(r) #引數值的呼叫\n",
    "a1 = circle_area(radius=r+10) #引數名稱的呼叫\n",
    "print(f\"a={a}\")\n",
    "print(f\"a1={a1}\")"
   ]
  },
  {
   "cell_type": "code",
   "execution_count": 2,
   "metadata": {},
   "outputs": [
    {
     "name": "stdout",
     "output_type": "stream",
     "text": [
      "2\n",
      "===========猜數字遊戲===========\n",
      "\n",
      "再小一點\n",
      "您已經猜了1次\n",
      "================\n",
      "再小一點\n",
      "您已經猜了2次\n",
      "================\n",
      "再小一點\n",
      "您已經猜了3次\n",
      "================\n",
      "再小一點\n",
      "您已經猜了4次\n",
      "================\n",
      "再小一點\n",
      "您已經猜了5次\n",
      "================\n",
      "賓果!猜對了, 答案是:2\n",
      "您總共猜了6次\n",
      "===============\n",
      "遊戲結束\n"
     ]
    }
   ],
   "source": [
    "import random\n",
    "\n",
    "#減少邏輯思考\n",
    "def playGame()->None:\n",
    "    min = 1\n",
    "    max = 100\n",
    "    count = 0\n",
    "    target = random.randint(min, max)\n",
    "    print(target)\n",
    "    print(\"===========猜數字遊戲===========\\n\")\n",
    "    while(True):\n",
    "        count += 1\n",
    "        try:\n",
    "            keyin = int(input(f\"猜數字範圍{min}~{max}:\"))\n",
    "        except Exception:\n",
    "            print(\"請重新輸入\")\n",
    "            continue\n",
    "        if keyin >= min and keyin <= max:\n",
    "            if(keyin == target):\n",
    "                print(f\"賓果!猜對了, 答案是:{target}\")\n",
    "                print(f\"您總共猜了{count}次\")\n",
    "                print(\"===============\")\n",
    "                break\n",
    "            elif keyin > target:\n",
    "                print(\"再小一點\")\n",
    "                max = keyin - 1            \n",
    "            elif keyin < target:\n",
    "                print(\"再大一點\")\n",
    "                min = keyin + 1\n",
    "            print(f\"您已經猜了{count}次\")\n",
    "            print(\"================\")\n",
    "\n",
    "        else:\n",
    "            print(\"超出範圍,請重新輸入\")\n",
    "\n",
    "while(True):\n",
    "    playGame()\n",
    "    answer = input(\"請問還要繼續嗎?y,n\")\n",
    "    if answer.upper() == 'N':\n",
    "        break\n",
    "\n",
    "print(\"遊戲結束\")"
   ]
  },
  {
   "cell_type": "code",
   "execution_count": null,
   "metadata": {},
   "outputs": [],
   "source": []
  }
 ],
 "metadata": {
  "kernelspec": {
   "display_name": "Python 3",
   "language": "python",
   "name": "python3"
  },
  "language_info": {
   "codemirror_mode": {
    "name": "ipython",
    "version": 3
   },
   "file_extension": ".py",
   "mimetype": "text/x-python",
   "name": "python",
   "nbconvert_exporter": "python",
   "pygments_lexer": "ipython3",
   "version": "3.10.15"
  }
 },
 "nbformat": 4,
 "nbformat_minor": 2
}
