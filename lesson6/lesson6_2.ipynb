{
 "cells": [
  {
   "cell_type": "code",
   "execution_count": 5,
   "metadata": {},
   "outputs": [
    {
     "name": "stdout",
     "output_type": "stream",
     "text": [
      "第1行程式\n",
      "第2行程式\n",
      "第3行程式\n",
      "第4行程式\n",
      "第5行程式\n",
      "第6行程式\n",
      "第7行程式\n",
      "第8行程式\n",
      "第9行程式\n",
      "第10行程式\n",
      "第11行程式\n",
      "第12行程式\n",
      "第13行程式\n",
      "第14行程式\n",
      "第15行程式\n",
      "第16行程式\n",
      "第17行程式\n",
      "第18行程式\n",
      "第19行程式\n",
      "第20行程式\n"
     ]
    }
   ],
   "source": [
    "#減少文件程式碼\n",
    "\n",
    "def func1():\n",
    "    print(\"第5行程式\")\n",
    "    print(\"第6行程式\")\n",
    "    print(\"第7行程式\")\n",
    "    print(\"第8行程式\")\n",
    "    print(\"第9行程式\")\n",
    "    print(\"第10行程式\")\n",
    "def func2():\n",
    "    print(\"第15行程式\")\n",
    "    print(\"第16行程式\")\n",
    "    print(\"第17行程式\")\n",
    "    print(\"第18行程式\")\n",
    "    print(\"第19行程式\")\n",
    "    print(\"第20行程式\")\n",
    "print(\"第1行程式\")\n",
    "print(\"第2行程式\")\n",
    "print(\"第3行程式\")\n",
    "print(\"第4行程式\")\n",
    "#呼叫func1\n",
    "func1()\n",
    "print(\"第11行程式\")\n",
    "print(\"第12行程式\")\n",
    "print(\"第13行程式\")\n",
    "print(\"第14行程式\")\n",
    "#呼叫func2\n",
    "func2()\n",
    "\n"
   ]
  }
 ],
 "metadata": {
  "kernelspec": {
   "display_name": "Python 3",
   "language": "python",
   "name": "python3"
  },
  "language_info": {
   "codemirror_mode": {
    "name": "ipython",
    "version": 3
   },
   "file_extension": ".py",
   "mimetype": "text/x-python",
   "name": "python",
   "nbconvert_exporter": "python",
   "pygments_lexer": "ipython3",
   "version": "3.10.15"
  }
 },
 "nbformat": 4,
 "nbformat_minor": 2
}
