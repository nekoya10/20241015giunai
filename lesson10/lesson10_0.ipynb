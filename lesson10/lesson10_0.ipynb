{
 "cells": [
  {
   "cell_type": "code",
   "execution_count": 5,
   "metadata": {},
   "outputs": [
    {
     "name": "stdout",
     "output_type": "stream",
     "text": [
      "姓名:陳凱翔\n",
      "身高:140\n",
      "體重:64\n",
      "BMI:32.65\n",
      "狀態:您的體重:中度肥胖\n",
      "============================\n",
      "姓名:李政成\n",
      "身高:166\n",
      "體重:62\n",
      "BMI:22.5\n",
      "狀態:您的體重:正常範圍\n",
      "============================\n"
     ]
    }
   ],
   "source": [
    "import random\n",
    "\n",
    "def get_name(nums:int=2)->list[str]:\n",
    "    with open('names.txt',mode='r',encoding='utf-8') as file:\n",
    "        names_str = file.read()\n",
    "    names = names_str.split(sep='\\n')\n",
    "    names = random.choices(names,k=nums)\n",
    "    return  names\n",
    "\n",
    "class BMI():\n",
    "    def __init__(self, name: str, height: int, weight: int):\n",
    "        self.name = name\n",
    "        self.height = height\n",
    "        self.weight = weight\n",
    "\n",
    "    def get_bmi(self) -> float:\n",
    "        return round(self.weight / (self.height / 100) ** 2,ndigits=2)\n",
    "    \n",
    "    def get_status(self) -> str:\n",
    "        bmi = self.get_bmi()\n",
    "        if bmi >= 35:\n",
    "            status = \"您的體重:重度肥胖\"\n",
    "        elif bmi >= 30:\n",
    "            status = \"您的體重:中度肥胖\"\n",
    "        elif bmi >= 27:\n",
    "            status = \"您的體重:輕度肥胖\"\n",
    "        elif bmi >= 24:\n",
    "            status = \"您的體重:過重\"\n",
    "        elif bmi >= 18.5:\n",
    "            status = \"您的體重:正常範圍\"\n",
    "        else:\n",
    "            status = \"您的體重:體重過輕\"\n",
    "\n",
    "        return status\n",
    "    \n",
    "def get_bmi(names:list[str])->list[BMI]:\n",
    "    students = []\n",
    "    for name in names:\n",
    "        height = random.randint(140,190)\n",
    "        weight = random.randint(50, 110)\n",
    "        bmi = BMI(name=name,height=height,weight=weight)\n",
    "        students.append(bmi)\n",
    "    return students\n",
    "\n",
    "nums = int(input(\"請輸入人數:\"))\n",
    "names = get_name(nums=nums)\n",
    "students = get_bmi(names=names)\n",
    "\n",
    "for student in students:\n",
    "    print(f'姓名:{student.name}')\n",
    "    print(f'身高:{student.height}')\n",
    "    print(f'體重:{student.weight}')\n",
    "    print(f'BMI:{student.get_bmi()}')\n",
    "    print(f'狀態:{student.get_status()}')\n",
    "    print(\"============================\") "
   ]
  }
 ],
 "metadata": {
  "kernelspec": {
   "display_name": "Python 3",
   "language": "python",
   "name": "python3"
  },
  "language_info": {
   "codemirror_mode": {
    "name": "ipython",
    "version": 3
   },
   "file_extension": ".py",
   "mimetype": "text/x-python",
   "name": "python",
   "nbconvert_exporter": "python",
   "pygments_lexer": "ipython3",
   "version": "3.10.15"
  }
 },
 "nbformat": 4,
 "nbformat_minor": 2
}
