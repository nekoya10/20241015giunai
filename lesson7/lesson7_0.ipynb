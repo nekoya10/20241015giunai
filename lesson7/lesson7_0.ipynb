{
 "cells": [
  {
   "cell_type": "markdown",
   "metadata": {},
   "source": [
    "#BMI的計算"
   ]
  },
  {
   "cell_type": "code",
   "execution_count": null,
   "metadata": {},
   "outputs": [
    {
     "name": "stdout",
     "output_type": "stream",
     "text": [
      "BMI的計算\n",
      "請輸入姓名:adasw\n",
      "格式錯誤,請重新輸入\n",
      "===================\n",
      "BMI的計算\n",
      "請輸入姓名:\n",
      "格式錯誤,請重新輸入\n",
      "===================\n",
      "BMI的計算\n",
      "請輸入姓名:\n",
      "格式錯誤,請重新輸入\n",
      "===================\n",
      "BMI的計算\n",
      "請輸入姓名:n\n",
      "格式錯誤,請重新輸入\n",
      "===================\n",
      "BMI的計算\n",
      "請輸入姓名:n\n",
      "請輸入身高(cm):1\n",
      "請輸入體重(kg):1\n",
      "n的BMI值10000.00\n",
      "n的體重:重度肥胖\n",
      "您還要繼續嗎?(y:繼續,n:結束):n\n",
      "===================\n"
     ]
    }
   ],
   "source": [
    "while(True):\n",
    "\n",
    "    print(\"BMI的計算\")\n",
    "    try: #判斷輸入是否有錯誤\n",
    "        name = input(\"請輸入姓名\")\n",
    "        print(f\"請輸入姓名:{name}\")#印名字\n",
    "        height = eval(input(\"請輸入身高(cm):\"))\n",
    "        print(f\"請輸入身高(cm):{height}\")#印身高\n",
    "        weight = eval(input(\"請輸入體重(kg):\"))\n",
    "        print(f\"請輸入體重(kg):{weight}\")#印體重\n",
    "    except Exception:\n",
    "        print(\"格式錯誤,請重新輸入\")\n",
    "        print(\"===================\")\n",
    "        continue#重跑while迴圈\n",
    "    BMI = weight / ((height/100)**2)\n",
    "    print(f\"{name}的BMI值{BMI:.2f}\")#印BMI\n",
    "\n",
    "    if BMI >=35:\n",
    "            print(f\"{name}的體重:重度肥胖\")\n",
    "    elif BMI >= 30:\n",
    "            print(f\"{name}的體重:中度肥胖\")\n",
    "    elif BMI >= 27:\n",
    "            print(f\"{name}的體重:輕度肥胖\")\n",
    "    elif BMI >= 24:\n",
    "            print(f\"{name}的體重:過重\")\n",
    "    elif BMI >= 18.5:\n",
    "            print(f\"{name}的體重:正常範圍\")\n",
    "    else:\n",
    "            print(f\"{name}的體重:體重過輕\")\n",
    "\n",
    "    value = input(\"您還要繼續嗎?(y:繼續,n:結束):\")#印是否繼續\n",
    "    print(f\"您還要繼續嗎?(y:繼續,n:結束):{value}\")\n",
    "    print(\"===================\")\n",
    "    if value.upper()==\"N\":#n/N跳出迴圈 #value.upper(換成大寫)\n",
    "        break"
   ]
  },
  {
   "cell_type": "code",
   "execution_count": null,
   "metadata": {},
   "outputs": [],
   "source": []
  }
 ],
 "metadata": {
  "kernelspec": {
   "display_name": "Python 3",
   "language": "python",
   "name": "python3"
  },
  "language_info": {
   "codemirror_mode": {
    "name": "ipython",
    "version": 3
   },
   "file_extension": ".py",
   "mimetype": "text/x-python",
   "name": "python",
   "nbconvert_exporter": "python",
   "pygments_lexer": "ipython3",
   "version": "3.10.15"
  }
 },
 "nbformat": 4,
 "nbformat_minor": 2
}
