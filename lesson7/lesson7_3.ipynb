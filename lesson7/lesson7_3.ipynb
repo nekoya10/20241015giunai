{
 "cells": [
  {
   "cell_type": "code",
   "execution_count": 2,
   "metadata": {},
   "outputs": [
    {
     "data": {
      "text/plain": [
       "(1, 'hello', 87.5)"
      ]
     },
     "execution_count": 2,
     "metadata": {},
     "output_type": "execute_result"
    }
   ],
   "source": [
    "(1,'hello',87.5)"
   ]
  },
  {
   "cell_type": "code",
   "execution_count": 3,
   "metadata": {},
   "outputs": [
    {
     "name": "stdout",
     "output_type": "stream",
     "text": [
      "1\n",
      "hello\n",
      "87.5\n"
     ]
    }
   ],
   "source": [
    "(first,second,third) = (1,'hello',87.5)\n",
    "print(first)\n",
    "print(second)\n",
    "print(third)"
   ]
  },
  {
   "cell_type": "code",
   "execution_count": 4,
   "metadata": {},
   "outputs": [
    {
     "data": {
      "text/plain": [
       "(1, 'hello', 87.5)"
      ]
     },
     "execution_count": 4,
     "metadata": {},
     "output_type": "execute_result"
    }
   ],
   "source": [
    "first,second,third"
   ]
  },
  {
   "cell_type": "code",
   "execution_count": 7,
   "metadata": {},
   "outputs": [],
   "source": [
    "first ,second ,third = 1, 'hello' ,87.5"
   ]
  },
  {
   "cell_type": "code",
   "execution_count": 8,
   "metadata": {},
   "outputs": [
    {
     "name": "stdout",
     "output_type": "stream",
     "text": [
      "BMI的計算\n",
      "請輸入姓名:小美\n",
      "請輸入身高(cm):165\n",
      "請輸入體重(kg):65\n",
      "小美的BMI值23.88\n",
      "小美的體重:正常範圍\n",
      "您還要繼續嗎?(y:繼續,n:結束):n\n",
      "===================\n"
     ]
    }
   ],
   "source": [
    "def input_data()->tuple[str,int,int]: \n",
    "    name = input(\"請輸入姓名\")\n",
    "    print(f\"請輸入姓名:{name}\")#印名字\n",
    "    height = eval(input(\"請輸入身高(cm):\"))\n",
    "    print(f\"請輸入身高(cm):{height}\")#印身高\n",
    "    weight = eval(input(\"請輸入體重(kg):\"))\n",
    "    print(f\"請輸入體重(kg):{weight}\")#印體重\n",
    "    return name, height, weight\n",
    "\n",
    "def get_status(BMI:int)->str:#有傳出值的function\n",
    "    if BMI >=35:\n",
    "            status = \"重度肥胖\"\n",
    "    elif BMI >= 30:\n",
    "            status = \"中度肥胖\"\n",
    "    elif BMI >= 27:\n",
    "            status = \"輕度肥胖\"\n",
    "    elif BMI >= 24:\n",
    "            status = \"過重\"\n",
    "    elif BMI >= 18.5:\n",
    "            status = \"正常範圍\"\n",
    "    else:\n",
    "            status = \"體重過輕\"\n",
    "    return status\n",
    "        \n",
    "while(True):\n",
    "\n",
    "    print(\"BMI的計算\")\n",
    "    try: #判斷輸入是否有錯誤\n",
    "       name, height, weight = input_data()\n",
    "    except Exception:\n",
    "        print(\"格式錯誤,請重新輸入\")\n",
    "        print(\"===================\")\n",
    "        continue#重跑while迴圈\n",
    "    BMI = weight / ((height/100)**2)\n",
    "    print(f\"{name}的BMI值{BMI:.2f}\")#印BMI\n",
    "\n",
    "    status = get_status(BMI)\n",
    "    print(f\"{name}的體重:{status}\")\n",
    "\n",
    "    value = input(\"您還要繼續嗎?(y:繼續,n:結束):\")#印是否繼續\n",
    "    print(f\"您還要繼續嗎?(y:繼續,n:結束):{value}\")\n",
    "    print(\"===================\")\n",
    "    if value.upper()==\"N\":#n/N跳出迴圈 #value.upper(換成大寫)\n",
    "        break"
   ]
  }
 ],
 "metadata": {
  "kernelspec": {
   "display_name": "Python 3",
   "language": "python",
   "name": "python3"
  },
  "language_info": {
   "codemirror_mode": {
    "name": "ipython",
    "version": 3
   },
   "file_extension": ".py",
   "mimetype": "text/x-python",
   "name": "python",
   "nbconvert_exporter": "python",
   "pygments_lexer": "ipython3",
   "version": "3.10.15"
  }
 },
 "nbformat": 4,
 "nbformat_minor": 2
}
