{
 "cells": [
  {
   "cell_type": "code",
   "execution_count": 4,
   "metadata": {},
   "outputs": [
    {
     "name": "stdout",
     "output_type": "stream",
     "text": [
      "手機號碼格式錯誤\n"
     ]
    }
   ],
   "source": [
    "#利用str的實體方法,subscript\n",
    "\n",
    "def isPhoneNumber(text:str) -> bool:\n",
    "    if len(text) != 12:\n",
    "        return False\n",
    "    elif not text[:4].isdecimal():\n",
    "        return False\n",
    "    elif text[4] != '-':\n",
    "        return False\n",
    "    elif not text[5:8].isdecimal():\n",
    "        return False\n",
    "    elif text[8] != \"-\":\n",
    "        return False\n",
    "    elif not text[9:].isdecimal():\n",
    "        return False\n",
    "    else:\n",
    "        return True\n",
    "    \n",
    "\n",
    "phone_numer = input(\"請輸入手機號碼xxxx-xxx-xxx:\")\n",
    "if isPhoneNumber(phone_numer):\n",
    "    print(f\"您的手機號碼是:{phone_numer}\")\n",
    "else:\n",
    "    print('手機號碼格式錯誤')\n"
   ]
  },
  {
   "cell_type": "code",
   "execution_count": 6,
   "metadata": {},
   "outputs": [
    {
     "name": "stdout",
     "output_type": "stream",
     "text": [
      "您的手機號碼是:0000-000-000\n"
     ]
    }
   ],
   "source": [
    "#使用正規則表達式\n",
    "import re\n",
    "from re import Pattern\n",
    "def isPhoneNumber(text:str) -> bool:\n",
    "    phonerNumRegex:Pattern = re.compile(r'\\d\\d\\d\\d-\\d\\d\\d-\\d\\d\\d')\n",
    "    result:Match = re.match(phonerNumRegex,text)\n",
    "    if result is None:\n",
    "        return False\n",
    "    else:\n",
    "        return True\n",
    "    \n",
    "phone_numer = input(\"請輸入手機號碼xxxx-xxx-xxx:\")\n",
    "if isPhoneNumber(phone_numer):\n",
    "    print(f\"您的手機號碼是:{phone_numer}\")\n",
    "else:\n",
    "    print('手機號碼格式錯誤')\n"
   ]
  },
  {
   "cell_type": "code",
   "execution_count": null,
   "metadata": {},
   "outputs": [],
   "source": [
    "#使用正規則表達式\n",
    "import re\n",
    "from re import Pattern,Match\n",
    "\n",
    "def isPhoneNumber(text:str) -> bool:\n",
    "    phonerNumRegex:Pattern = re.compile(r'\\d{4}-\\d{3}-\\d{3}')\n",
    "    result:Match = re.match(phonerNumRegex,text)\n",
    "    if result is None:\n",
    "        return False\n",
    "    else:\n",
    "        return True\n",
    "    \n",
    "phone_numer = input(\"請輸入手機號碼xxxx-xxx-xxx:\")\n",
    "if isPhoneNumber(phone_numer):\n",
    "    print(f\"您的手機號碼是:{phone_numer}\")\n",
    "else:\n",
    "    print('手機號碼格式錯誤')\n"
   ]
  },
  {
   "cell_type": "code",
   "execution_count": 7,
   "metadata": {},
   "outputs": [
    {
     "name": "stdout",
     "output_type": "stream",
     "text": [
      "您的手機號碼是:0965-010-382\n"
     ]
    }
   ],
   "source": [
    "#使用正規則表達式\n",
    "import re\n",
    "from re import Pattern,Match\n",
    "\n",
    "def isPhoneNumber(text:str) -> bool:\n",
    "    phonerNumRegex:Pattern = re.compile(r'\\d{4}(-|_)\\d{3}(-|_)\\d{3}')\n",
    "    result:Match = re.match(phonerNumRegex,text)\n",
    "    if result is None:\n",
    "        return False\n",
    "    else:\n",
    "        return True\n",
    "    \n",
    "phone_numer = input(\"請輸入手機號碼xxxx-xxx-xxx:\")\n",
    "if isPhoneNumber(phone_numer):\n",
    "    print(f\"您的手機號碼是:{phone_numer}\")\n",
    "else:\n",
    "    print('手機號碼格式錯誤')\n"
   ]
  },
  {
   "cell_type": "code",
   "execution_count": 3,
   "metadata": {},
   "outputs": [
    {
     "name": "stdout",
     "output_type": "stream",
     "text": [
      "您的手機號碼是:0965-010-382\n"
     ]
    }
   ],
   "source": [
    "#使用正規則表達式\n",
    "import re\n",
    "from re import Pattern,Match\n",
    "\n",
    "def isPhoneNumber(text:str) -> bool:\n",
    "    phonerNumRegex:Pattern = re.compile(r'^\\d{4}-\\d{3}-\\d{3}$')\n",
    "    result:Match = re.match(phonerNumRegex,text)\n",
    "    if result is None:\n",
    "        return False\n",
    "    else:\n",
    "        return True\n",
    "    \n",
    "phone_numer = input(\"請輸入手機號碼xxxx-xxx-xxx:\")\n",
    "if isPhoneNumber(phone_numer):\n",
    "    print(f\"您的手機號碼是:{phone_numer}\")\n",
    "else:\n",
    "    print('手機號碼格式錯誤')\n"
   ]
  },
  {
   "cell_type": "code",
   "execution_count": 4,
   "metadata": {},
   "outputs": [
    {
     "data": {
      "text/plain": [
       "['0926-456-789', '0939-654-321']"
      ]
     },
     "execution_count": 4,
     "metadata": {},
     "output_type": "execute_result"
    }
   ],
   "source": [
    "string = \"My phone numbers are 0926-456-789 and 0939-654-321.\"\n",
    "phoneNumRegex:Pattern = re.compile(r'\\d{4}-\\d{3}-\\d{3}')\n",
    "digits:list = re.findall(phoneNumRegex,string)\n",
    "digits"
   ]
  }
 ],
 "metadata": {
  "kernelspec": {
   "display_name": "Python 3",
   "language": "python",
   "name": "python3"
  },
  "language_info": {
   "codemirror_mode": {
    "name": "ipython",
    "version": 3
   },
   "file_extension": ".py",
   "mimetype": "text/x-python",
   "name": "python",
   "nbconvert_exporter": "python",
   "pygments_lexer": "ipython3",
   "version": "3.10.15"
  }
 },
 "nbformat": 4,
 "nbformat_minor": 2
}
